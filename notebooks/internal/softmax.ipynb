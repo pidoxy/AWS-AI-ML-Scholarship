{
 "cells": [
  {
   "cell_type": "code",
   "execution_count": 2,
   "metadata": {
    "edited": true,
    "gradable": true,
    "grader_id": "z8t696bptq8",
    "udacity_user_query": ""
   },
   "outputs": [],
   "source": [
    "import numpy as np\n",
    "\n",
    "# TODO: complete the function\n",
    "def softmax(L):\n",
    "    \"\"\"\n",
    "    This function takes as input a list of numbers, and returns the list\n",
    "    of values given by the softmax function.\n",
    "    \"\"\"\n",
    "    exp_L = np.exp(L)\n",
    "    return list(np.divide(exp_L, exp_L.sum()))"
   ]
  },
  {
   "cell_type": "code",
   "execution_count": null,
   "metadata": {},
   "outputs": [],
   "source": []
  }
 ],
 "metadata": {
  "grader_mode": "",
  "kernelspec": {
   "display_name": "Python 3",
   "language": "python",
   "name": "python3"
  },
  "language_info": {
   "codemirror_mode": {
    "name": "ipython",
    "version": 3
   },
   "file_extension": ".py",
   "mimetype": "text/x-python",
   "name": "python",
   "nbconvert_exporter": "python",
   "pygments_lexer": "ipython3",
   "version": "3.6.3"
  },
  "showGradeBtn": true
 },
 "nbformat": 4,
 "nbformat_minor": 2
}
