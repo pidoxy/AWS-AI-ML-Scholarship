{
 "cells": [
  {
   "cell_type": "code",
   "execution_count": null,
   "metadata": {},
   "outputs": [],
   "source": [
    "import numpy as np\n",
    "import seaborn as sb\n",
    "import pandas as pd\n",
    "import matplotlib.pyplot as plt\n"
   ]
  },
  {
   "cell_type": "code",
   "execution_count": null,
   "metadata": {},
   "outputs": [],
   "source": [
    "g = sb.JointGrid(data = df, x = 'num_var1', y = 'num_var2')\n",
    "g.plot_joint(plt.scatter)\n",
    "g.plot_marginals(sb.rugplot, height = 0.25)"
   ]
  },
  {
   "cell_type": "code",
   "execution_count": null,
   "metadata": {},
   "outputs": [],
   "source": [
    "plt.figure(figsize = [10, 5])\n",
    "base_color = sb.color_palette()[0]\n",
    "\n",
    "# left plot: strip plot\n",
    "plt.subplot(1, 2, 1)\n",
    "ax1 = sb.stripplot(data = df, x = 'num_var', y = 'cat_var',\n",
    "                   color = base_color)\n",
    "\n",
    "# right plot: violin plot with inner strip plot as lines\n",
    "plt.subplot(1, 2, 2)\n",
    "sb.violinplot(data = df, x = 'num_var', y = 'cat_var', color = base_color,\n",
    "             inner = 'stick')"
   ]
  }
 ],
 "metadata": {
  "language_info": {
   "name": "python"
  }
 },
 "nbformat": 4,
 "nbformat_minor": 2
}
