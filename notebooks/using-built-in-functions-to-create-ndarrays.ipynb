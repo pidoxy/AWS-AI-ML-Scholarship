{
 "cells": [
  {
   "cell_type": "code",
   "execution_count": 1,
   "metadata": {},
   "outputs": [
    {
     "data": {
      "text/plain": [
       "array([1, 2, 3, 4, 5])"
      ]
     },
     "execution_count": 1,
     "metadata": {},
     "output_type": "execute_result"
    }
   ],
   "source": [
    "import numpy as np\n",
    "\n",
    "my_list = [1,2,3,4,5]\n",
    "np.array(my_list)"
   ]
  },
  {
   "cell_type": "markdown",
   "metadata": {},
   "source": [
    "#### Example 1. Create a Numpy array of zeros with a desired shape"
   ]
  },
  {
   "cell_type": "code",
   "execution_count": 2,
   "metadata": {},
   "outputs": [
    {
     "name": "stdout",
     "output_type": "stream",
     "text": [
      "\n",
      "X = \n",
      " [[0 0 0 0]\n",
      " [0 0 0 0]\n",
      " [0 0 0 0]]\n",
      "\n",
      "X has dimensions: (3, 4)\n",
      "X is an object of type: <class 'numpy.ndarray'>\n",
      "The elements in X are of type: int32\n"
     ]
    }
   ],
   "source": [
    "# We create a 3 x 4 ndarray full of zeros. \n",
    "X = np.zeros((3,4), dtype=int)\n",
    "\n",
    "# We print X\n",
    "print()\n",
    "print('X = \\n', X)\n",
    "print()\n",
    "\n",
    "# We print information about X\n",
    "print('X has dimensions:', X.shape)\n",
    "print('X is an object of type:', type(X))\n",
    "print('The elements in X are of type:', X.dtype)"
   ]
  },
  {
   "cell_type": "markdown",
   "metadata": {},
   "source": [
    "#### Example 2. Create a Numpy array of ones"
   ]
  },
  {
   "cell_type": "code",
   "execution_count": 3,
   "metadata": {},
   "outputs": [
    {
     "name": "stdout",
     "output_type": "stream",
     "text": [
      "\n",
      "X = \n",
      " [[1. 1.]\n",
      " [1. 1.]\n",
      " [1. 1.]]\n",
      "\n",
      "X has dimensions: (3, 2)\n",
      "X is an object of type: <class 'numpy.ndarray'>\n",
      "The elements in X are of type: float64\n"
     ]
    }
   ],
   "source": [
    "# We create a 3 x 2 ndarray full of ones. \n",
    "X = np.ones((3,2))\n",
    "\n",
    "# We print X\n",
    "print()\n",
    "print('X = \\n', X)\n",
    "print()\n",
    "\n",
    "# We print information about X\n",
    "print('X has dimensions:', X.shape)\n",
    "print('X is an object of type:', type(X))\n",
    "print('The elements in X are of type:', X.dtype) "
   ]
  },
  {
   "cell_type": "markdown",
   "metadata": {},
   "source": [
    "#### Example 3. Create a Numpy array of constants"
   ]
  },
  {
   "cell_type": "code",
   "execution_count": 4,
   "metadata": {},
   "outputs": [
    {
     "name": "stdout",
     "output_type": "stream",
     "text": [
      "\n",
      "X = \n",
      " [[5 5 5]\n",
      " [5 5 5]]\n",
      "\n",
      "X has dimensions: (2, 3)\n",
      "X is an object of type: <class 'numpy.ndarray'>\n",
      "The elements in X are of type: int32\n"
     ]
    }
   ],
   "source": [
    "# We create a 2 x 3 ndarray full of fives. \n",
    "X = np.full((2,3), 5) \n",
    "\n",
    "# We print X\n",
    "print()\n",
    "print('X = \\n', X)\n",
    "print()\n",
    "\n",
    "# We print information about X\n",
    "print('X has dimensions:', X.shape)\n",
    "print('X is an object of type:', type(X))\n",
    "print('The elements in X are of type:', X.dtype)"
   ]
  },
  {
   "cell_type": "markdown",
   "metadata": {},
   "source": [
    "#### Example 4. Create a Numpy array of Identity matrix"
   ]
  },
  {
   "cell_type": "code",
   "execution_count": 5,
   "metadata": {},
   "outputs": [
    {
     "name": "stdout",
     "output_type": "stream",
     "text": [
      "\n",
      "X = \n",
      " [[1. 0. 0. 0. 0.]\n",
      " [0. 1. 0. 0. 0.]\n",
      " [0. 0. 1. 0. 0.]\n",
      " [0. 0. 0. 1. 0.]\n",
      " [0. 0. 0. 0. 1.]]\n",
      "\n",
      "X has dimensions: (5, 5)\n",
      "X is an object of type: <class 'numpy.ndarray'>\n",
      "The elements in X are of type: float64\n"
     ]
    }
   ],
   "source": [
    "# We create a 5 x 5 Identity matrix. \n",
    "X = np.eye(5)\n",
    "\n",
    "# We print X\n",
    "print()\n",
    "print('X = \\n', X)\n",
    "print()\n",
    "\n",
    "# We print information about X\n",
    "print('X has dimensions:', X.shape)\n",
    "print('X is an object of type:', type(X))\n",
    "print('The elements in X are of type:', X.dtype)  "
   ]
  },
  {
   "cell_type": "markdown",
   "metadata": {},
   "source": [
    "#### Example 5. Create a Numpy array of constants"
   ]
  },
  {
   "cell_type": "code",
   "execution_count": 6,
   "metadata": {},
   "outputs": [
    {
     "name": "stdout",
     "output_type": "stream",
     "text": [
      "\n",
      "X = \n",
      " [[10  0  0  0]\n",
      " [ 0 20  0  0]\n",
      " [ 0  0 30  0]\n",
      " [ 0  0  0 50]]\n",
      "\n"
     ]
    }
   ],
   "source": [
    "# Create a 4 x 4 diagonal matrix that contains the numbers 10,20,30, and 50\n",
    "# on its main diagonal\n",
    "X = np.diag([10,20,30,50])\n",
    "\n",
    "# We print X\n",
    "print()\n",
    "print('X = \\n', X)\n",
    "print()"
   ]
  },
  {
   "cell_type": "markdown",
   "metadata": {},
   "source": [
    "#### Example 5. Create a Numpy array of evenly spaced values in a given range, using `arange(stop_val)`\n",
    "See the complete syntax of `NumPy.arange()` [here](https://numpy.org/doc/stable/reference/generated/numpy.arange.html)"
   ]
  },
  {
   "cell_type": "code",
   "execution_count": 7,
   "metadata": {},
   "outputs": [
    {
     "name": "stdout",
     "output_type": "stream",
     "text": [
      "\n",
      "x =  [0 1 2 3 4 5 6 7 8 9]\n",
      "\n",
      "x has dimensions: (10,)\n",
      "x is an object of type: <class 'numpy.ndarray'>\n",
      "The elements in x are of type: int32\n"
     ]
    }
   ],
   "source": [
    "# We create a rank 1 ndarray that has sequential integers from 0 to 9\n",
    "x = np.arange(10)\n",
    "\n",
    "# We print the ndarray\n",
    "print()\n",
    "print('x = ', x)\n",
    "print()\n",
    "\n",
    "# We print information about the ndarray\n",
    "print('x has dimensions:', x.shape)\n",
    "print('x is an object of type:', type(x))\n",
    "print('The elements in x are of type:', x.dtype) "
   ]
  },
  {
   "cell_type": "markdown",
   "metadata": {},
   "source": [
    "#### Example 6. Create a Numpy array using `arange(start_val, stop_val)`"
   ]
  },
  {
   "cell_type": "code",
   "execution_count": 8,
   "metadata": {},
   "outputs": [
    {
     "name": "stdout",
     "output_type": "stream",
     "text": [
      "\n",
      "x =  [4 5 6 7 8 9]\n",
      "\n",
      "x has dimensions: (6,)\n",
      "x is an object of type: <class 'numpy.ndarray'>\n",
      "The elements in x are of type: int32\n"
     ]
    }
   ],
   "source": [
    "# We create a rank 1 ndarray that has sequential integers from 4 to 9. \n",
    "x = np.arange(4,10)\n",
    "\n",
    "# We print the ndarray\n",
    "print()\n",
    "print('x = ', x)\n",
    "print()\n",
    "\n",
    "# We print information about the ndarray\n",
    "print('x has dimensions:', x.shape)\n",
    "print('x is an object of type:', type(x))\n",
    "print('The elements in x are of type:', x.dtype) "
   ]
  },
  {
   "cell_type": "markdown",
   "metadata": {},
   "source": [
    "#### Example 7. Create a Numpy array using `arange(start_val, stop_val, step_size)`"
   ]
  },
  {
   "cell_type": "code",
   "execution_count": 9,
   "metadata": {},
   "outputs": [
    {
     "name": "stdout",
     "output_type": "stream",
     "text": [
      "\n",
      "x =  [ 1  4  7 10 13]\n",
      "\n",
      "x has dimensions: (5,)\n",
      "x is an object of type: <class 'numpy.ndarray'>\n",
      "The elements in x are of type: int32\n"
     ]
    }
   ],
   "source": [
    "# We create a rank 1 ndarray that has evenly spaced integers from 1 to 13 in steps of 3.\n",
    "x = np.arange(1,14,3)\n",
    "\n",
    "# We print the ndarray\n",
    "print()\n",
    "print('x = ', x)\n",
    "print()\n",
    "\n",
    "# We print information about the ndarray\n",
    "print('x has dimensions:', x.shape)\n",
    "print('x is an object of type:', type(x))\n",
    "print('The elements in x are of type:', x.dtype) "
   ]
  },
  {
   "cell_type": "markdown",
   "metadata": {},
   "source": [
    "#### Example 8. Create a Numpy array using `linspace(start, stop, n)`, with `stop` inclusive.\n",
    "See the all possible arguments in the syntax [here](https://numpy.org/doc/stable/reference/generated/numpy.linspace.html) "
   ]
  },
  {
   "cell_type": "code",
   "execution_count": 10,
   "metadata": {},
   "outputs": [
    {
     "name": "stdout",
     "output_type": "stream",
     "text": [
      "\n",
      "x = \n",
      " [ 0.          2.77777778  5.55555556  8.33333333 11.11111111 13.88888889\n",
      " 16.66666667 19.44444444 22.22222222 25.        ]\n",
      "\n",
      "x has dimensions: (10,)\n",
      "x is an object of type: <class 'numpy.ndarray'>\n",
      "The elements in x are of type: float64\n"
     ]
    }
   ],
   "source": [
    "# We create a rank 1 ndarray that has 10 integers evenly spaced between 0 and 25.\n",
    "x = np.linspace(0,25,10)\n",
    "\n",
    "# We print the ndarray\n",
    "print()\n",
    "print('x = \\n', x)\n",
    "print()\n",
    "\n",
    "# We print information about the ndarray\n",
    "print('x has dimensions:', x.shape)\n",
    "print('x is an object of type:', type(x))\n",
    "print('The elements in x are of type:', x.dtype) "
   ]
  },
  {
   "cell_type": "markdown",
   "metadata": {},
   "source": [
    "#### Example 9. Create a Numpy array using `linspace(start, stop, n)`, with `stop` excluded."
   ]
  },
  {
   "cell_type": "code",
   "execution_count": 11,
   "metadata": {},
   "outputs": [
    {
     "name": "stdout",
     "output_type": "stream",
     "text": [
      "\n",
      "x =  [ 0.   2.5  5.   7.5 10.  12.5 15.  17.5 20.  22.5]\n",
      "\n",
      "x has dimensions: (10,)\n",
      "x is an object of type: <class 'numpy.ndarray'>\n",
      "The elements in x are of type: float64\n"
     ]
    }
   ],
   "source": [
    "# We create a rank 1 ndarray that has 10 integers evenly spaced between 0 and 25,\n",
    "# with 25 excluded.\n",
    "x = np.linspace(0,25,10, endpoint = False)\n",
    "\n",
    "# We print the ndarray\n",
    "print()\n",
    "print('x = ', x)\n",
    "print()\n",
    "\n",
    "# We print information about the ndarray\n",
    "print('x has dimensions:', x.shape)\n",
    "print('x is an object of type:', type(x))\n",
    "print('The elements in x are of type:', x.dtype) "
   ]
  },
  {
   "cell_type": "markdown",
   "metadata": {},
   "source": [
    "#### Example 10. Create a Numpy array by feeding the output of `arange()` function to the  `reshape()` function.\n",
    "Here, `arange()` function will give you a 1-D array, whereas the `reshape()` function will convert that 1-D array into a  desired shape. **Remember, that the  `size` of the final output must be as same as the `size` of the initial  1-D array."
   ]
  },
  {
   "cell_type": "code",
   "execution_count": 12,
   "metadata": {},
   "outputs": [
    {
     "name": "stdout",
     "output_type": "stream",
     "text": [
      "\n",
      "Original x =  [ 0  1  2  3  4  5  6  7  8  9 10 11 12 13 14 15 16 17 18 19]\n",
      "\n",
      "\n",
      "Reshaped x = \n",
      " [[ 0  1  2  3  4]\n",
      " [ 5  6  7  8  9]\n",
      " [10 11 12 13 14]\n",
      " [15 16 17 18 19]]\n",
      "\n",
      "x has dimensions: (4, 5)\n",
      "x is an object of type: <class 'numpy.ndarray'>\n",
      "The elements in x are of type: int32\n"
     ]
    }
   ],
   "source": [
    "# We create a rank 1 ndarray with sequential integers from 0 to 19\n",
    "x = np.arange(20)\n",
    "\n",
    "# We print x\n",
    "print()\n",
    "print('Original x = ', x)\n",
    "print()\n",
    "\n",
    "# We reshape x into a 4 x 5 ndarray \n",
    "x = np.reshape(x, (4,5))\n",
    "\n",
    "# We print the reshaped x\n",
    "print()\n",
    "print('Reshaped x = \\n', x)\n",
    "print()\n",
    "\n",
    "# We print information about the reshaped x\n",
    "print('x has dimensions:', x.shape)\n",
    "print('x is an object of type:', type(x))\n",
    "print('The elements in x are of type:', x.dtype) "
   ]
  },
  {
   "cell_type": "markdown",
   "metadata": {},
   "source": [
    "#### Example 11. Create a Numpy array by calling the `reshape()` function from the output of `arange()` function.\n",
    "Notice the change in the arguments of `reshape()`"
   ]
  },
  {
   "cell_type": "code",
   "execution_count": 13,
   "metadata": {},
   "outputs": [
    {
     "name": "stdout",
     "output_type": "stream",
     "text": [
      "\n",
      "Y = \n",
      " [[ 0  1  2  3  4]\n",
      " [ 5  6  7  8  9]\n",
      " [10 11 12 13 14]\n",
      " [15 16 17 18 19]]\n",
      "\n",
      "Y has dimensions: (4, 5)\n",
      "Y is an object of type: <class 'numpy.ndarray'>\n",
      "The elements in Y are of type: int32\n"
     ]
    }
   ],
   "source": [
    "# We create a a rank 1 ndarray with sequential integers from 0 to 19 and\n",
    "# reshape it to a 4 x 5 array \n",
    "Y = np.arange(20).reshape(4, 5)\n",
    "\n",
    "# We print Y\n",
    "print()\n",
    "print('Y = \\n', Y)\n",
    "print()\n",
    "\n",
    "# We print information about Y\n",
    "print('Y has dimensions:', Y.shape)\n",
    "print('Y is an object of type:', type(Y))\n",
    "print('The elements in Y are of type:', Y.dtype) "
   ]
  },
  {
   "cell_type": "markdown",
   "metadata": {},
   "source": [
    "#### Example 12. Create a rank 2 Numpy array by using the `reshape()` function."
   ]
  },
  {
   "cell_type": "code",
   "execution_count": 14,
   "metadata": {},
   "outputs": [
    {
     "name": "stdout",
     "output_type": "stream",
     "text": [
      "\n",
      "X = \n",
      " [[ 0.  5.]\n",
      " [10. 15.]\n",
      " [20. 25.]\n",
      " [30. 35.]\n",
      " [40. 45.]]\n",
      "\n",
      "X has dimensions: (5, 2)\n",
      "X is an object of type: <class 'numpy.ndarray'>\n",
      "The elements in X are of type: float64\n"
     ]
    }
   ],
   "source": [
    "# We create a rank 1 ndarray with 10 integers evenly spaced between 0 and 50,\n",
    "# with 50 excluded. We then reshape it to a 5 x 2 ndarray\n",
    "X = np.linspace(0,50,10, endpoint=False).reshape(5,2)\n",
    "\n",
    "# We print X\n",
    "print()\n",
    "print('X = \\n', X)\n",
    "print()\n",
    "\n",
    "# We print information about X\n",
    "print('X has dimensions:', X.shape)\n",
    "print('X is an object of type:', type(X))\n",
    "print('The elements in X are of type:', X.dtype)"
   ]
  },
  {
   "cell_type": "markdown",
   "metadata": {},
   "source": [
    "#### Example 13. Create a Numpy array using the `numpy.random.random()` function. "
   ]
  },
  {
   "cell_type": "code",
   "execution_count": 15,
   "metadata": {},
   "outputs": [
    {
     "name": "stdout",
     "output_type": "stream",
     "text": [
      "\n",
      "X = \n",
      " [[0.72642132 0.83345363 0.15723073]\n",
      " [0.84215387 0.45704591 0.99307537]\n",
      " [0.25209975 0.41830847 0.79902228]]\n",
      "\n",
      "X has dimensions: (3, 3)\n",
      "X is an object of type: <class 'numpy.ndarray'>\n",
      "The elements in x are of type: float64\n"
     ]
    }
   ],
   "source": [
    "# We create a 3 x 3 ndarray with random floats in the half-open interval [0.0, 1.0).\n",
    "X = np.random.random((3,3))\n",
    "\n",
    "# We print X\n",
    "print()\n",
    "print('X = \\n', X)\n",
    "print()\n",
    "\n",
    "# We print information about X\n",
    "print('X has dimensions:', X.shape)\n",
    "print('X is an object of type:', type(X))\n",
    "print('The elements in x are of type:', X.dtype)"
   ]
  },
  {
   "cell_type": "markdown",
   "metadata": {},
   "source": [
    "#### Example 14. Create a Numpy array  using the `numpy.random.randint()` function. "
   ]
  },
  {
   "cell_type": "code",
   "execution_count": 16,
   "metadata": {},
   "outputs": [
    {
     "name": "stdout",
     "output_type": "stream",
     "text": [
      "\n",
      "X = \n",
      " [[11  9]\n",
      " [ 6  8]\n",
      " [10  9]]\n",
      "\n",
      "X has dimensions: (3, 2)\n",
      "X is an object of type: <class 'numpy.ndarray'>\n",
      "The elements in X are of type: int32\n"
     ]
    }
   ],
   "source": [
    "# We create a 3 x 2 ndarray with random integers in the half-open interval [4, 15).\n",
    "X = np.random.randint(4,15,size=(3,2))\n",
    "\n",
    "# We print X\n",
    "print()\n",
    "print('X = \\n', X)\n",
    "print()\n",
    "\n",
    "# We print information about X\n",
    "print('X has dimensions:', X.shape)\n",
    "print('X is an object of type:', type(X))\n",
    "print('The elements in X are of type:', X.dtype)"
   ]
  },
  {
   "cell_type": "markdown",
   "metadata": {},
   "source": [
    "#### Example 15. Create a Numpy array of \"Normal\" distributed random numbers, using the `numpy.random.normal()` function. "
   ]
  },
  {
   "cell_type": "code",
   "execution_count": 17,
   "metadata": {},
   "outputs": [
    {
     "name": "stdout",
     "output_type": "stream",
     "text": [
      "\n",
      "X = \n",
      " [[ 0.04952708 -0.07165344  0.06370035 ...  0.13551993 -0.0360852\n",
      "  -0.02911789]\n",
      " [ 0.02978637 -0.05926937  0.0330974  ... -0.00132613  0.13144387\n",
      "  -0.28390547]\n",
      " [-0.11912552 -0.07470699  0.13447027 ...  0.04941325  0.1276255\n",
      "  -0.06203696]\n",
      " ...\n",
      " [ 0.00581124  0.13544871  0.0160421  ... -0.16807546 -0.01218235\n",
      "  -0.15103672]\n",
      " [ 0.00716224 -0.05423533  0.08497594 ...  0.18162315  0.05062441\n",
      "   0.03051225]\n",
      " [ 0.05960489 -0.15104861 -0.05765053 ... -0.06113852  0.09017265\n",
      "  -0.18921094]]\n",
      "\n",
      "X has dimensions: (1000, 1000)\n",
      "X is an object of type: <class 'numpy.ndarray'>\n",
      "The elements in X are of type: float64\n",
      "The elements in X have a mean of: -9.214166720616786e-07\n",
      "The maximum value in X is: 0.45723599761641104\n",
      "The minimum value in X is: -0.504590460941415\n",
      "X has 499812 negative numbers\n",
      "X has 500188 positive numbers\n"
     ]
    }
   ],
   "source": [
    "# We create a 1000 x 1000 ndarray of random floats drawn from normal (Gaussian) distribution\n",
    "# with a mean of zero and a standard deviation of 0.1.\n",
    "X = np.random.normal(0, 0.1, size=(1000,1000))\n",
    "\n",
    "# We print X\n",
    "print()\n",
    "print('X = \\n', X)\n",
    "print()\n",
    "\n",
    "# We print information about X\n",
    "print('X has dimensions:', X.shape)\n",
    "print('X is an object of type:', type(X))\n",
    "print('The elements in X are of type:', X.dtype)\n",
    "print('The elements in X have a mean of:', X.mean())\n",
    "print('The maximum value in X is:', X.max())\n",
    "print('The minimum value in X is:', X.min())\n",
    "print('X has', (X < 0).sum(), 'negative numbers')\n",
    "print('X has', (X > 0).sum(), 'positive numbers')"
   ]
  },
  {
   "cell_type": "code",
   "execution_count": null,
   "metadata": {},
   "outputs": [],
   "source": []
  }
 ],
 "metadata": {
  "kernelspec": {
   "display_name": "Python 3",
   "language": "python",
   "name": "python3"
  },
  "language_info": {
   "codemirror_mode": {
    "name": "ipython",
    "version": 3
   },
   "file_extension": ".py",
   "mimetype": "text/x-python",
   "name": "python",
   "nbconvert_exporter": "python",
   "pygments_lexer": "ipython3",
   "version": "3.12.0"
  }
 },
 "nbformat": 4,
 "nbformat_minor": 4
}
