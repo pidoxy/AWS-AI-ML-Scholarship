{
 "cells": [
  {
   "cell_type": "code",
   "execution_count": 1,
   "metadata": {},
   "outputs": [],
   "source": [
    "import numpy as np\n",
    "import pandas as pd\n",
    "import seaborn as sb\n",
    "import matplotlib.pyplot as plt"
   ]
  },
  {
   "cell_type": "code",
   "execution_count": 2,
   "metadata": {},
   "outputs": [
    {
     "ename": "NameError",
     "evalue": "name 'df' is not defined",
     "output_type": "error",
     "traceback": [
      "\u001b[0;31m---------------------------------------------------------------------------\u001b[0m",
      "\u001b[0;31mNameError\u001b[0m                                 Traceback (most recent call last)",
      "\u001b[1;32m/workspaces/AWS-AI-ML-Scholarship/notebooks/stacked.ipynb Cell 2\u001b[0m line \u001b[0;36m2\n\u001b[1;32m      <a href='vscode-notebook-cell://codespaces%2Bfriendly-parakeet-5rxxqrjv9p4f4ggv/workspaces/AWS-AI-ML-Scholarship/notebooks/stacked.ipynb#W1sdnNjb2RlLXJlbW90ZQ%3D%3D?line=0'>1</a>\u001b[0m \u001b[39m# pre-processing: count and sort by the number of instances of each category\u001b[39;00m\n\u001b[0;32m----> <a href='vscode-notebook-cell://codespaces%2Bfriendly-parakeet-5rxxqrjv9p4f4ggv/workspaces/AWS-AI-ML-Scholarship/notebooks/stacked.ipynb#W1sdnNjb2RlLXJlbW90ZQ%3D%3D?line=1'>2</a>\u001b[0m sorted_counts \u001b[39m=\u001b[39m df[\u001b[39m'\u001b[39m\u001b[39mcat_var\u001b[39m\u001b[39m'\u001b[39m]\u001b[39m.\u001b[39mvalue_counts()\n\u001b[1;32m      <a href='vscode-notebook-cell://codespaces%2Bfriendly-parakeet-5rxxqrjv9p4f4ggv/workspaces/AWS-AI-ML-Scholarship/notebooks/stacked.ipynb#W1sdnNjb2RlLXJlbW90ZQ%3D%3D?line=3'>4</a>\u001b[0m \u001b[39m# establish the Figure\u001b[39;00m\n\u001b[1;32m      <a href='vscode-notebook-cell://codespaces%2Bfriendly-parakeet-5rxxqrjv9p4f4ggv/workspaces/AWS-AI-ML-Scholarship/notebooks/stacked.ipynb#W1sdnNjb2RlLXJlbW90ZQ%3D%3D?line=4'>5</a>\u001b[0m plt\u001b[39m.\u001b[39mfigure(figsize \u001b[39m=\u001b[39m [\u001b[39m12\u001b[39m, \u001b[39m5\u001b[39m])\n",
      "\u001b[0;31mNameError\u001b[0m: name 'df' is not defined"
     ]
    }
   ],
   "source": [
    "# pre-processing: count and sort by the number of instances of each category\n",
    "sorted_counts = df['cat_var'].value_counts()\n",
    "\n",
    "# establish the Figure\n",
    "plt.figure(figsize = [12, 5])\n",
    "\n",
    "# left plot: pie chart\n",
    "plt.subplot(1, 2, 1)\n",
    "plt.pie(sorted_counts, labels = sorted_counts.index, startangle = 90,\n",
    "        counterclock = False);\n",
    "plt.axis('square');\n",
    "\n",
    "# right plot: horizontally stacked bar\n",
    "plt.subplot(1, 2, 2)\n",
    "baseline = 0\n",
    "for i in range(sorted_counts.shape[0]):\n",
    "    plt.barh(y = 1, width = sorted_counts[i], left = baseline)\n",
    "    baseline += sorted_counts[i]\n",
    "\n",
    "plt.legend(sorted_counts.index)  # add a legend for labeling\n",
    "plt.ylim([0,2]) # give some vertical spacing around the bar"
   ]
  },
  {
   "cell_type": "code",
   "execution_count": 3,
   "metadata": {},
   "outputs": [
    {
     "ename": "NameError",
     "evalue": "name 'df' is not defined",
     "output_type": "error",
     "traceback": [
      "\u001b[0;31m---------------------------------------------------------------------------\u001b[0m",
      "\u001b[0;31mNameError\u001b[0m                                 Traceback (most recent call last)",
      "\u001b[1;32m/workspaces/AWS-AI-ML-Scholarship/notebooks/stacked.ipynb Cell 3\u001b[0m line \u001b[0;36m8\n\u001b[1;32m      <a href='vscode-notebook-cell://codespaces%2Bfriendly-parakeet-5rxxqrjv9p4f4ggv/workspaces/AWS-AI-ML-Scholarship/notebooks/stacked.ipynb#W2sdnNjb2RlLXJlbW90ZQ%3D%3D?line=5'>6</a>\u001b[0m \u001b[39m# left plot: clustered bar chart, absolute counts\u001b[39;00m\n\u001b[1;32m      <a href='vscode-notebook-cell://codespaces%2Bfriendly-parakeet-5rxxqrjv9p4f4ggv/workspaces/AWS-AI-ML-Scholarship/notebooks/stacked.ipynb#W2sdnNjb2RlLXJlbW90ZQ%3D%3D?line=6'>7</a>\u001b[0m plt\u001b[39m.\u001b[39msubplot(\u001b[39m1\u001b[39m, \u001b[39m2\u001b[39m, \u001b[39m1\u001b[39m)\n\u001b[0;32m----> <a href='vscode-notebook-cell://codespaces%2Bfriendly-parakeet-5rxxqrjv9p4f4ggv/workspaces/AWS-AI-ML-Scholarship/notebooks/stacked.ipynb#W2sdnNjb2RlLXJlbW90ZQ%3D%3D?line=7'>8</a>\u001b[0m sb\u001b[39m.\u001b[39mcountplot(data \u001b[39m=\u001b[39m df, x \u001b[39m=\u001b[39m \u001b[39m'\u001b[39m\u001b[39mcat_var1\u001b[39m\u001b[39m'\u001b[39m, hue \u001b[39m=\u001b[39m \u001b[39m'\u001b[39m\u001b[39mcat_var2\u001b[39m\u001b[39m'\u001b[39m,\n\u001b[1;32m      <a href='vscode-notebook-cell://codespaces%2Bfriendly-parakeet-5rxxqrjv9p4f4ggv/workspaces/AWS-AI-ML-Scholarship/notebooks/stacked.ipynb#W2sdnNjb2RlLXJlbW90ZQ%3D%3D?line=8'>9</a>\u001b[0m              order \u001b[39m=\u001b[39m cat1_order, hue_order \u001b[39m=\u001b[39m cat2_order)\n\u001b[1;32m     <a href='vscode-notebook-cell://codespaces%2Bfriendly-parakeet-5rxxqrjv9p4f4ggv/workspaces/AWS-AI-ML-Scholarship/notebooks/stacked.ipynb#W2sdnNjb2RlLXJlbW90ZQ%3D%3D?line=9'>10</a>\u001b[0m plt\u001b[39m.\u001b[39mlegend()\n\u001b[1;32m     <a href='vscode-notebook-cell://codespaces%2Bfriendly-parakeet-5rxxqrjv9p4f4ggv/workspaces/AWS-AI-ML-Scholarship/notebooks/stacked.ipynb#W2sdnNjb2RlLXJlbW90ZQ%3D%3D?line=11'>12</a>\u001b[0m \u001b[39m# right plot: stacked bar chart, absolute counts\u001b[39;00m\n",
      "\u001b[0;31mNameError\u001b[0m: name 'df' is not defined"
     ]
    },
    {
     "data": {
      "image/png": "[encoded data removed]",
      "text/plain": [
       "<Figure size 1200x500 with 1 Axes>"
      ]
     },
     "metadata": {},
     "output_type": "display_data"
    }
   ],
   "source": [
    "cat1_order = ['East', 'South', 'West', 'North']\n",
    "cat2_order = ['Type X', 'Type Y', 'Type Z', 'Type O']\n",
    "\n",
    "plt.figure(figsize = [12, 5])\n",
    "\n",
    "# left plot: clustered bar chart, absolute counts\n",
    "plt.subplot(1, 2, 1)\n",
    "sb.countplot(data = df, x = 'cat_var1', hue = 'cat_var2',\n",
    "             order = cat1_order, hue_order = cat2_order)\n",
    "plt.legend()\n",
    "\n",
    "# right plot: stacked bar chart, absolute counts\n",
    "plt.subplot(1, 2, 2)\n",
    "\n",
    "baselines = np.zeros(len(cat1_order))\n",
    "# for each second-variable category:\n",
    "for i in range(len(cat2_order)):\n",
    "    # isolate the counts of the first category,\n",
    "    cat2 = cat2_order[i]\n",
    "    inner_counts = df[df['cat_var2'] == cat2]['cat_var1'].value_counts()\n",
    "    # then plot those counts on top of the accumulated baseline\n",
    "    plt.bar(x = np.arange(len(cat1_order)), height = inner_counts[cat1_order],\n",
    "            bottom = baselines)\n",
    "    baselines += inner_counts[cat1_order]\n",
    "    \n",
    "plt.xticks(np.arange(len(cat1_order)), cat1_order)\n",
    "plt.legend(cat2_order)"
   ]
  },
  {
   "cell_type": "code",
   "execution_count": 4,
   "metadata": {},
   "outputs": [
    {
     "ename": "NameError",
     "evalue": "name 'df' is not defined",
     "output_type": "error",
     "traceback": [
      "\u001b[0;31m---------------------------------------------------------------------------\u001b[0m",
      "\u001b[0;31mNameError\u001b[0m                                 Traceback (most recent call last)",
      "\u001b[1;32m/workspaces/AWS-AI-ML-Scholarship/notebooks/stacked.ipynb Cell 4\u001b[0m line \u001b[0;36m3\n\u001b[1;32m      <a href='vscode-notebook-cell://codespaces%2Bfriendly-parakeet-5rxxqrjv9p4f4ggv/workspaces/AWS-AI-ML-Scholarship/notebooks/stacked.ipynb#W3sdnNjb2RlLXJlbW90ZQ%3D%3D?line=0'>1</a>\u001b[0m artists \u001b[39m=\u001b[39m [] \u001b[39m# for storing references to plot elements\u001b[39;00m\n\u001b[1;32m      <a href='vscode-notebook-cell://codespaces%2Bfriendly-parakeet-5rxxqrjv9p4f4ggv/workspaces/AWS-AI-ML-Scholarship/notebooks/stacked.ipynb#W3sdnNjb2RlLXJlbW90ZQ%3D%3D?line=1'>2</a>\u001b[0m baselines \u001b[39m=\u001b[39m np\u001b[39m.\u001b[39mzeros(\u001b[39mlen\u001b[39m(cat1_order))\n\u001b[0;32m----> <a href='vscode-notebook-cell://codespaces%2Bfriendly-parakeet-5rxxqrjv9p4f4ggv/workspaces/AWS-AI-ML-Scholarship/notebooks/stacked.ipynb#W3sdnNjb2RlLXJlbW90ZQ%3D%3D?line=2'>3</a>\u001b[0m cat1_counts \u001b[39m=\u001b[39m df[\u001b[39m'\u001b[39m\u001b[39mcat_var1\u001b[39m\u001b[39m'\u001b[39m]\u001b[39m.\u001b[39mvalue_counts()\n\u001b[1;32m      <a href='vscode-notebook-cell://codespaces%2Bfriendly-parakeet-5rxxqrjv9p4f4ggv/workspaces/AWS-AI-ML-Scholarship/notebooks/stacked.ipynb#W3sdnNjb2RlLXJlbW90ZQ%3D%3D?line=4'>5</a>\u001b[0m \u001b[39m# for each second-variable category:\u001b[39;00m\n\u001b[1;32m      <a href='vscode-notebook-cell://codespaces%2Bfriendly-parakeet-5rxxqrjv9p4f4ggv/workspaces/AWS-AI-ML-Scholarship/notebooks/stacked.ipynb#W3sdnNjb2RlLXJlbW90ZQ%3D%3D?line=5'>6</a>\u001b[0m \u001b[39mfor\u001b[39;00m i \u001b[39min\u001b[39;00m \u001b[39mrange\u001b[39m(\u001b[39mlen\u001b[39m(cat2_order)):\n\u001b[1;32m      <a href='vscode-notebook-cell://codespaces%2Bfriendly-parakeet-5rxxqrjv9p4f4ggv/workspaces/AWS-AI-ML-Scholarship/notebooks/stacked.ipynb#W3sdnNjb2RlLXJlbW90ZQ%3D%3D?line=6'>7</a>\u001b[0m     \u001b[39m# isolate the counts of the first category,\u001b[39;00m\n",
      "\u001b[0;31mNameError\u001b[0m: name 'df' is not defined"
     ]
    }
   ],
   "source": [
    "artists = [] # for storing references to plot elements\n",
    "baselines = np.zeros(len(cat1_order))\n",
    "cat1_counts = df['cat_var1'].value_counts()\n",
    "\n",
    "# for each second-variable category:\n",
    "for i in range(len(cat2_order)):\n",
    "    # isolate the counts of the first category,\n",
    "    cat2 = cat2_order[i]\n",
    "    inner_counts = df[df['cat_var2'] == cat2]['cat_var1'].value_counts()\n",
    "    inner_props = inner_counts / cat1_counts\n",
    "    # then plot those counts on top of the accumulated baseline\n",
    "    bars = plt.bar(x = np.arange(len(cat1_order)),\n",
    "                   height = inner_props[cat1_order],\n",
    "                   bottom = baselines)\n",
    "    artists.append(bars)\n",
    "    baselines += inner_props[cat1_order]\n",
    "    \n",
    "plt.xticks(np.arange(len(cat1_order)), cat1_order)\n",
    "plt.legend(reversed(artists), reversed(cat2_order), framealpha = 1,\n",
    "           bbox_to_anchor = (1, 0.5), loc = 6);"
   ]
  },
  {
   "cell_type": "code",
   "execution_count": null,
   "metadata": {},
   "outputs": [],
   "source": []
  }
 ],
 "metadata": {
  "kernelspec": {
   "display_name": "Python 3",
   "language": "python",
   "name": "python3"
  },
  "language_info": {
   "codemirror_mode": {
    "name": "ipython",
    "version": 3
   },
   "file_extension": ".py",
   "mimetype": "text/x-python",
   "name": "python",
   "nbconvert_exporter": "python",
   "pygments_lexer": "ipython3",
   "version": "3.10.8"
  }
 },
 "nbformat": 4,
 "nbformat_minor": 2
}
